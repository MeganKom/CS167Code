{
  "nbformat": 4,
  "nbformat_minor": 0,
  "metadata": {
    "colab": {
      "name": "notebook1_MeganKom.ipynb",
      "provenance": [],
      "include_colab_link": true
    },
    "kernelspec": {
      "name": "python3",
      "display_name": "Python 3"
    }
  },
  "cells": [
    {
      "cell_type": "markdown",
      "metadata": {
        "id": "view-in-github",
        "colab_type": "text"
      },
      "source": [
        "<a href=\"https://colab.research.google.com/github/MeganKom/CS167Code/blob/main/notebook1_MeganKom.ipynb\" target=\"_parent\"><img src=\"https://colab.research.google.com/assets/colab-badge.svg\" alt=\"Open In Colab\"/></a>"
      ]
    },
    {
      "cell_type": "markdown",
      "metadata": {
        "id": "8V1Slz52hI39"
      },
      "source": [
        "# Notebook #1: Python, Pandas, and Pokemon, Oh My!\n",
        "\n",
        "**Due 2/16 by 11:59pm**\n",
        "\n",
        "The goal of this notebook is to become comfortable with using `python` and `pandas` as well as grabbing specific slices of the dataset. \n",
        "\n",
        "Start off by importing the data as we did in `practice-assignment`. Make sure the data is in your Google Drive, and that you update the path to point to where you have your data saved in Drive."
      ]
    },
    {
      "cell_type": "code",
      "metadata": {
        "id": "yMLe0EWyLXqZ",
        "colab": {
          "base_uri": "https://localhost:8080/"
        },
        "outputId": "c4945568-8033-49b7-8359-8b47d04d1604"
      },
      "source": [
        "import pandas as pd\n",
        "from google.colab import drive\n",
        "drive.mount('/content/drive')"
      ],
      "execution_count": null,
      "outputs": [
        {
          "output_type": "stream",
          "text": [
            "Mounted at /content/drive\n"
          ],
          "name": "stdout"
        }
      ]
    },
    {
      "cell_type": "code",
      "metadata": {
        "id": "cH-odZShMDUH",
        "colab": {
          "base_uri": "https://localhost:8080/",
          "height": 202
        },
        "outputId": "8cf182c5-668b-496f-ef25-f77c30db3bf0"
      },
      "source": [
        "#import the data:\n",
        "\n",
        "#make sure the path on the line below corresponds to the path where you put your dataset.\n",
        "poke = pd.read_csv('/content/drive/MyDrive//pokemon.csv')\n",
        "poke.head()"
      ],
      "execution_count": null,
      "outputs": [
        {
          "output_type": "execute_result",
          "data": {
            "text/html": [
              "<div>\n",
              "<style scoped>\n",
              "    .dataframe tbody tr th:only-of-type {\n",
              "        vertical-align: middle;\n",
              "    }\n",
              "\n",
              "    .dataframe tbody tr th {\n",
              "        vertical-align: top;\n",
              "    }\n",
              "\n",
              "    .dataframe thead th {\n",
              "        text-align: right;\n",
              "    }\n",
              "</style>\n",
              "<table border=\"1\" class=\"dataframe\">\n",
              "  <thead>\n",
              "    <tr style=\"text-align: right;\">\n",
              "      <th></th>\n",
              "      <th>#</th>\n",
              "      <th>Name</th>\n",
              "      <th>Type 1</th>\n",
              "      <th>Type 2</th>\n",
              "      <th>Total</th>\n",
              "      <th>HP</th>\n",
              "      <th>Attack</th>\n",
              "      <th>Defense</th>\n",
              "      <th>Sp. Atk</th>\n",
              "      <th>Sp. Def</th>\n",
              "      <th>Speed</th>\n",
              "      <th>Generation</th>\n",
              "      <th>Legendary</th>\n",
              "    </tr>\n",
              "  </thead>\n",
              "  <tbody>\n",
              "    <tr>\n",
              "      <th>0</th>\n",
              "      <td>1</td>\n",
              "      <td>Bulbasaur</td>\n",
              "      <td>Grass</td>\n",
              "      <td>Poison</td>\n",
              "      <td>318</td>\n",
              "      <td>45</td>\n",
              "      <td>49</td>\n",
              "      <td>49</td>\n",
              "      <td>65</td>\n",
              "      <td>65</td>\n",
              "      <td>45</td>\n",
              "      <td>1</td>\n",
              "      <td>False</td>\n",
              "    </tr>\n",
              "    <tr>\n",
              "      <th>1</th>\n",
              "      <td>2</td>\n",
              "      <td>Ivysaur</td>\n",
              "      <td>Grass</td>\n",
              "      <td>Poison</td>\n",
              "      <td>405</td>\n",
              "      <td>60</td>\n",
              "      <td>62</td>\n",
              "      <td>63</td>\n",
              "      <td>80</td>\n",
              "      <td>80</td>\n",
              "      <td>60</td>\n",
              "      <td>1</td>\n",
              "      <td>False</td>\n",
              "    </tr>\n",
              "    <tr>\n",
              "      <th>2</th>\n",
              "      <td>3</td>\n",
              "      <td>Venusaur</td>\n",
              "      <td>Grass</td>\n",
              "      <td>Poison</td>\n",
              "      <td>525</td>\n",
              "      <td>80</td>\n",
              "      <td>82</td>\n",
              "      <td>83</td>\n",
              "      <td>100</td>\n",
              "      <td>100</td>\n",
              "      <td>80</td>\n",
              "      <td>1</td>\n",
              "      <td>False</td>\n",
              "    </tr>\n",
              "    <tr>\n",
              "      <th>3</th>\n",
              "      <td>3</td>\n",
              "      <td>VenusaurMega Venusaur</td>\n",
              "      <td>Grass</td>\n",
              "      <td>Poison</td>\n",
              "      <td>625</td>\n",
              "      <td>80</td>\n",
              "      <td>100</td>\n",
              "      <td>123</td>\n",
              "      <td>122</td>\n",
              "      <td>120</td>\n",
              "      <td>80</td>\n",
              "      <td>1</td>\n",
              "      <td>False</td>\n",
              "    </tr>\n",
              "    <tr>\n",
              "      <th>4</th>\n",
              "      <td>4</td>\n",
              "      <td>Charmander</td>\n",
              "      <td>Fire</td>\n",
              "      <td>NaN</td>\n",
              "      <td>309</td>\n",
              "      <td>39</td>\n",
              "      <td>52</td>\n",
              "      <td>43</td>\n",
              "      <td>60</td>\n",
              "      <td>50</td>\n",
              "      <td>65</td>\n",
              "      <td>1</td>\n",
              "      <td>False</td>\n",
              "    </tr>\n",
              "  </tbody>\n",
              "</table>\n",
              "</div>"
            ],
            "text/plain": [
              "   #                   Name Type 1  ... Speed  Generation  Legendary\n",
              "0  1              Bulbasaur  Grass  ...    45           1      False\n",
              "1  2                Ivysaur  Grass  ...    60           1      False\n",
              "2  3               Venusaur  Grass  ...    80           1      False\n",
              "3  3  VenusaurMega Venusaur  Grass  ...    80           1      False\n",
              "4  4             Charmander   Fire  ...    65           1      False\n",
              "\n",
              "[5 rows x 13 columns]"
            ]
          },
          "metadata": {
            "tags": []
          },
          "execution_count": 5
        }
      ]
    },
    {
      "cell_type": "markdown",
      "metadata": {
        "id": "YtBWVQpFiQpc"
      },
      "source": [
        "## Exercise #1: \n",
        "Print out all of the possible values for the primary type of pokemon."
      ]
    },
    {
      "cell_type": "code",
      "metadata": {
        "id": "eE_ZrSrQV2_0",
        "colab": {
          "base_uri": "https://localhost:8080/"
        },
        "outputId": "99cc0d26-2007-4991-cbe4-22d3939d80d4"
      },
      "source": [
        "poke['Type 1'].unique()"
      ],
      "execution_count": null,
      "outputs": [
        {
          "output_type": "execute_result",
          "data": {
            "text/plain": [
              "array(['Grass', 'Fire', 'Water', 'Bug', 'Normal', 'Poison', 'Electric',\n",
              "       'Ground', 'Fairy', 'Fighting', 'Psychic', 'Rock', 'Ghost', 'Ice',\n",
              "       'Dragon', 'Dark', 'Steel', 'Flying'], dtype=object)"
            ]
          },
          "metadata": {
            "tags": []
          },
          "execution_count": 6
        }
      ]
    },
    {
      "cell_type": "markdown",
      "metadata": {
        "id": "poxyHULTVpcv"
      },
      "source": [
        "## Exercise #2:\n",
        "Create a subset of data representing pokemon whose primary type is Bug 🐛, and the second type is Poison 💀. Save this DataFrame to the variable name `bug_poison_pokemon`. Display the first 5 lines of this subset."
      ]
    },
    {
      "cell_type": "code",
      "metadata": {
        "id": "XFTTrwtTYESB",
        "colab": {
          "base_uri": "https://localhost:8080/",
          "height": 202
        },
        "outputId": "e46b5454-9e84-481e-af71-55c3b3d3c96e"
      },
      "source": [
        "bug_poison_pokemon = poke[  (poke['Type 1'] == 'Bug') & (poke['Type 2'] == 'Poison')]\r\n",
        "bug_poison_pokemon[:5]"
      ],
      "execution_count": null,
      "outputs": [
        {
          "output_type": "execute_result",
          "data": {
            "text/html": [
              "<div>\n",
              "<style scoped>\n",
              "    .dataframe tbody tr th:only-of-type {\n",
              "        vertical-align: middle;\n",
              "    }\n",
              "\n",
              "    .dataframe tbody tr th {\n",
              "        vertical-align: top;\n",
              "    }\n",
              "\n",
              "    .dataframe thead th {\n",
              "        text-align: right;\n",
              "    }\n",
              "</style>\n",
              "<table border=\"1\" class=\"dataframe\">\n",
              "  <thead>\n",
              "    <tr style=\"text-align: right;\">\n",
              "      <th></th>\n",
              "      <th>#</th>\n",
              "      <th>Name</th>\n",
              "      <th>Type 1</th>\n",
              "      <th>Type 2</th>\n",
              "      <th>Total</th>\n",
              "      <th>HP</th>\n",
              "      <th>Attack</th>\n",
              "      <th>Defense</th>\n",
              "      <th>Sp. Atk</th>\n",
              "      <th>Sp. Def</th>\n",
              "      <th>Speed</th>\n",
              "      <th>Generation</th>\n",
              "      <th>Legendary</th>\n",
              "    </tr>\n",
              "  </thead>\n",
              "  <tbody>\n",
              "    <tr>\n",
              "      <th>16</th>\n",
              "      <td>13</td>\n",
              "      <td>Weedle</td>\n",
              "      <td>Bug</td>\n",
              "      <td>Poison</td>\n",
              "      <td>195</td>\n",
              "      <td>40</td>\n",
              "      <td>35</td>\n",
              "      <td>30</td>\n",
              "      <td>20</td>\n",
              "      <td>20</td>\n",
              "      <td>50</td>\n",
              "      <td>1</td>\n",
              "      <td>False</td>\n",
              "    </tr>\n",
              "    <tr>\n",
              "      <th>17</th>\n",
              "      <td>14</td>\n",
              "      <td>Kakuna</td>\n",
              "      <td>Bug</td>\n",
              "      <td>Poison</td>\n",
              "      <td>205</td>\n",
              "      <td>45</td>\n",
              "      <td>25</td>\n",
              "      <td>50</td>\n",
              "      <td>25</td>\n",
              "      <td>25</td>\n",
              "      <td>35</td>\n",
              "      <td>1</td>\n",
              "      <td>False</td>\n",
              "    </tr>\n",
              "    <tr>\n",
              "      <th>18</th>\n",
              "      <td>15</td>\n",
              "      <td>Beedrill</td>\n",
              "      <td>Bug</td>\n",
              "      <td>Poison</td>\n",
              "      <td>395</td>\n",
              "      <td>65</td>\n",
              "      <td>90</td>\n",
              "      <td>40</td>\n",
              "      <td>45</td>\n",
              "      <td>80</td>\n",
              "      <td>75</td>\n",
              "      <td>1</td>\n",
              "      <td>False</td>\n",
              "    </tr>\n",
              "    <tr>\n",
              "      <th>19</th>\n",
              "      <td>15</td>\n",
              "      <td>BeedrillMega Beedrill</td>\n",
              "      <td>Bug</td>\n",
              "      <td>Poison</td>\n",
              "      <td>495</td>\n",
              "      <td>65</td>\n",
              "      <td>150</td>\n",
              "      <td>40</td>\n",
              "      <td>15</td>\n",
              "      <td>80</td>\n",
              "      <td>145</td>\n",
              "      <td>1</td>\n",
              "      <td>False</td>\n",
              "    </tr>\n",
              "    <tr>\n",
              "      <th>53</th>\n",
              "      <td>48</td>\n",
              "      <td>Venonat</td>\n",
              "      <td>Bug</td>\n",
              "      <td>Poison</td>\n",
              "      <td>305</td>\n",
              "      <td>60</td>\n",
              "      <td>55</td>\n",
              "      <td>50</td>\n",
              "      <td>40</td>\n",
              "      <td>55</td>\n",
              "      <td>45</td>\n",
              "      <td>1</td>\n",
              "      <td>False</td>\n",
              "    </tr>\n",
              "  </tbody>\n",
              "</table>\n",
              "</div>"
            ],
            "text/plain": [
              "     #                   Name Type 1  ... Speed  Generation  Legendary\n",
              "16  13                 Weedle    Bug  ...    50           1      False\n",
              "17  14                 Kakuna    Bug  ...    35           1      False\n",
              "18  15               Beedrill    Bug  ...    75           1      False\n",
              "19  15  BeedrillMega Beedrill    Bug  ...   145           1      False\n",
              "53  48                Venonat    Bug  ...    45           1      False\n",
              "\n",
              "[5 rows x 13 columns]"
            ]
          },
          "metadata": {
            "tags": []
          },
          "execution_count": 7
        }
      ]
    },
    {
      "cell_type": "markdown",
      "metadata": {
        "id": "VHl8SCudrePQ"
      },
      "source": [
        "## Exercise #3\n",
        "Using `bug_poison_pokemon`, what is the median Attack of Bug Poison Pokemon?"
      ]
    },
    {
      "cell_type": "code",
      "metadata": {
        "id": "ce2W4c8WbdQ-",
        "colab": {
          "base_uri": "https://localhost:8080/"
        },
        "outputId": "6c6c6d90-7430-4fa1-9df4-5ee2ff6bdc97"
      },
      "source": [
        "bug_poison_pokemon.groupby(['Attack']).median()\r\n",
        "median_attack = bug_poison_pokemon['Attack'].median()\r\n",
        "print(median_attack)"
      ],
      "execution_count": null,
      "outputs": [
        {
          "output_type": "stream",
          "text": [
            "57.5\n"
          ],
          "name": "stdout"
        }
      ]
    },
    {
      "cell_type": "markdown",
      "metadata": {
        "id": "0Y67fkLBrqg6"
      },
      "source": [
        "## Exercise #4\n",
        "Which primary type of pokemon is the overall strongest? (not looking for philsophical debates here, I'm looking at the average of the 'Total' column, grouped by Type--so Fire v Water v Grass etc.)."
      ]
    },
    {
      "cell_type": "code",
      "metadata": {
        "id": "w8um3sVor2Kn",
        "colab": {
          "base_uri": "https://localhost:8080/"
        },
        "outputId": "4192366b-67a2-47c7-9070-f7be94cffaa8"
      },
      "source": [
        "poke.groupby(['Type 1'])['Total'].mean()"
      ],
      "execution_count": null,
      "outputs": [
        {
          "output_type": "execute_result",
          "data": {
            "text/plain": [
              "Type 1\n",
              "Bug         378.927536\n",
              "Dark        445.741935\n",
              "Dragon      550.531250\n",
              "Electric    443.409091\n",
              "Fairy       413.176471\n",
              "Fighting    416.444444\n",
              "Fire        458.076923\n",
              "Flying      485.000000\n",
              "Ghost       439.562500\n",
              "Grass       421.142857\n",
              "Ground      437.500000\n",
              "Ice         433.458333\n",
              "Normal      401.683673\n",
              "Poison      399.142857\n",
              "Psychic     475.947368\n",
              "Rock        453.750000\n",
              "Steel       487.703704\n",
              "Water       430.455357\n",
              "Name: Total, dtype: float64"
            ]
          },
          "metadata": {
            "tags": []
          },
          "execution_count": 15
        }
      ]
    },
    {
      "cell_type": "markdown",
      "metadata": {
        "id": "4HUNZfjXzsWr"
      },
      "source": [
        "**Based on the averages above, Dragon is the strongest at 550.53**"
      ]
    },
    {
      "cell_type": "markdown",
      "metadata": {
        "id": "pc8_4_1Jr3D0"
      },
      "source": [
        "## Exercise #5\n",
        "Choose a generation of pokemon, and create a subset with only pokemon with this generation. In this subset, only include the following 5 columns in this order: the Generation, name, type 1, type 2, and total."
      ]
    },
    {
      "cell_type": "code",
      "metadata": {
        "id": "IsySCt7Lr7CM",
        "colab": {
          "base_uri": "https://localhost:8080/"
        },
        "outputId": "9fa62e08-fa38-4407-b743-e0f2ed197752"
      },
      "source": [
        "my_generation = poke[ (poke['Generation'] == 1)]\r\n",
        "my_generation_display = my_generation[ ['Generation', 'Name', 'Type 1', 'Type 2', 'Total']]\r\n",
        "print(my_generation_display)"
      ],
      "execution_count": null,
      "outputs": [
        {
          "output_type": "stream",
          "text": [
            "     Generation                   Name   Type 1    Type 2  Total\n",
            "0             1              Bulbasaur    Grass    Poison    318\n",
            "1             1                Ivysaur    Grass    Poison    405\n",
            "2             1               Venusaur    Grass    Poison    525\n",
            "3             1  VenusaurMega Venusaur    Grass    Poison    625\n",
            "4             1             Charmander     Fire       NaN    309\n",
            "..          ...                    ...      ...       ...    ...\n",
            "161           1              Dragonite   Dragon    Flying    600\n",
            "162           1                 Mewtwo  Psychic       NaN    680\n",
            "163           1    MewtwoMega Mewtwo X  Psychic  Fighting    780\n",
            "164           1    MewtwoMega Mewtwo Y  Psychic       NaN    780\n",
            "165           1                    Mew  Psychic       NaN    600\n",
            "\n",
            "[166 rows x 5 columns]\n"
          ],
          "name": "stdout"
        }
      ]
    },
    {
      "cell_type": "markdown",
      "metadata": {
        "id": "SgXXm5GxsHKA"
      },
      "source": [
        "## Exercise #6\n",
        "\n",
        "From the Generation that you've chosen, ouput the mean, median, and standard deviation of the 'HP' column."
      ]
    },
    {
      "cell_type": "code",
      "metadata": {
        "id": "ppZBXANesLWG",
        "colab": {
          "base_uri": "https://localhost:8080/"
        },
        "outputId": "38e951f3-d061-4166-f501-7af6e9e0f433"
      },
      "source": [
        "generation_mean = my_generation['HP'].mean()\r\n",
        "print('The mean is', generation_mean)\r\n",
        "\r\n",
        "generation_median = my_generation['HP'].median()\r\n",
        "print('The median is', generation_median)\r\n",
        "\r\n",
        "generation_sd = my_generation['HP'].std()\r\n",
        "print('The standard deviation is', generation_sd)"
      ],
      "execution_count": null,
      "outputs": [
        {
          "output_type": "stream",
          "text": [
            "The mean is 65.81927710843374\n",
            "The median is 62.0\n",
            "The standard deviation is 28.15396826685769\n"
          ],
          "name": "stdout"
        }
      ]
    }
  ]
}