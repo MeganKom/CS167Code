{
  "nbformat": 4,
  "nbformat_minor": 0,
  "metadata": {
    "colab": {
      "name": "Notebook5_MinePending.ipynb",
      "provenance": [],
      "include_colab_link": true
    },
    "kernelspec": {
      "name": "python3",
      "display_name": "Python 3"
    },
    "language_info": {
      "name": "python"
    }
  },
  "cells": [
    {
      "cell_type": "markdown",
      "metadata": {
        "id": "view-in-github",
        "colab_type": "text"
      },
      "source": [
        "<a href=\"https://colab.research.google.com/github/MeganKom/CS167Code/blob/main/Notebook5_KomFinnished.ipynb\" target=\"_parent\"><img src=\"https://colab.research.google.com/assets/colab-badge.svg\" alt=\"Open In Colab\"/></a>"
      ]
    },
    {
      "cell_type": "markdown",
      "metadata": {
        "id": "mjn-QG47ADAn"
      },
      "source": [
        "# Notebook \\#5: SVM, Perceptron, SGD, and PCA\n",
        "**Due:** Thursday April 8th, by 11:59pm\n",
        "\n",
        "Name:\n",
        "\n",
        "**Exercises**: \\\\\n",
        "Build a default model for each of the following and then build a model with one parameter tuned:\n",
        "1. Support Vector Machines\n",
        "2. Perceptron\n",
        "3. Stochastic Gradient Descent\n",
        "4. Run a PCA on the best model\n",
        "5. Answer the conclusion questions\n"
      ]
    },
    {
      "cell_type": "code",
      "metadata": {
        "colab": {
          "base_uri": "https://localhost:8080/",
          "height": 255
        },
        "id": "R65ec-xVAAQO",
        "outputId": "2fad9fdc-681f-4472-e393-f110367b88d2"
      },
      "source": [
        "from google.colab import drive\n",
        "import pandas as pd\n",
        "drive.mount('/content/drive')\n",
        "data= pd.read_csv('/content/drive/MyDrive/breast-cancer-wisconsin-data.csv')\n",
        "data.head()"
      ],
      "execution_count": 2,
      "outputs": [
        {
          "output_type": "stream",
          "text": [
            "Mounted at /content/drive\n"
          ],
          "name": "stdout"
        },
        {
          "output_type": "execute_result",
          "data": {
            "text/html": [
              "<div>\n",
              "<style scoped>\n",
              "    .dataframe tbody tr th:only-of-type {\n",
              "        vertical-align: middle;\n",
              "    }\n",
              "\n",
              "    .dataframe tbody tr th {\n",
              "        vertical-align: top;\n",
              "    }\n",
              "\n",
              "    .dataframe thead th {\n",
              "        text-align: right;\n",
              "    }\n",
              "</style>\n",
              "<table border=\"1\" class=\"dataframe\">\n",
              "  <thead>\n",
              "    <tr style=\"text-align: right;\">\n",
              "      <th></th>\n",
              "      <th>id</th>\n",
              "      <th>diagnosis</th>\n",
              "      <th>radius_mean</th>\n",
              "      <th>texture_mean</th>\n",
              "      <th>perimeter_mean</th>\n",
              "      <th>area_mean</th>\n",
              "      <th>smoothness_mean</th>\n",
              "      <th>compactness_mean</th>\n",
              "      <th>concavity_mean</th>\n",
              "      <th>concave points_mean</th>\n",
              "      <th>symmetry_mean</th>\n",
              "      <th>fractal_dimension_mean</th>\n",
              "      <th>radius_se</th>\n",
              "      <th>texture_se</th>\n",
              "      <th>perimeter_se</th>\n",
              "      <th>area_se</th>\n",
              "      <th>smoothness_se</th>\n",
              "      <th>compactness_se</th>\n",
              "      <th>concavity_se</th>\n",
              "      <th>concave points_se</th>\n",
              "      <th>symmetry_se</th>\n",
              "      <th>fractal_dimension_se</th>\n",
              "      <th>radius_worst</th>\n",
              "      <th>texture_worst</th>\n",
              "      <th>perimeter_worst</th>\n",
              "      <th>area_worst</th>\n",
              "      <th>smoothness_worst</th>\n",
              "      <th>compactness_worst</th>\n",
              "      <th>concavity_worst</th>\n",
              "      <th>concave points_worst</th>\n",
              "      <th>symmetry_worst</th>\n",
              "      <th>fractal_dimension_worst</th>\n",
              "      <th>Unnamed: 32</th>\n",
              "    </tr>\n",
              "  </thead>\n",
              "  <tbody>\n",
              "    <tr>\n",
              "      <th>0</th>\n",
              "      <td>842302</td>\n",
              "      <td>M</td>\n",
              "      <td>17.99</td>\n",
              "      <td>10.38</td>\n",
              "      <td>122.80</td>\n",
              "      <td>1001.0</td>\n",
              "      <td>0.11840</td>\n",
              "      <td>0.27760</td>\n",
              "      <td>0.3001</td>\n",
              "      <td>0.14710</td>\n",
              "      <td>0.2419</td>\n",
              "      <td>0.07871</td>\n",
              "      <td>1.0950</td>\n",
              "      <td>0.9053</td>\n",
              "      <td>8.589</td>\n",
              "      <td>153.40</td>\n",
              "      <td>0.006399</td>\n",
              "      <td>0.04904</td>\n",
              "      <td>0.05373</td>\n",
              "      <td>0.01587</td>\n",
              "      <td>0.03003</td>\n",
              "      <td>0.006193</td>\n",
              "      <td>25.38</td>\n",
              "      <td>17.33</td>\n",
              "      <td>184.60</td>\n",
              "      <td>2019.0</td>\n",
              "      <td>0.1622</td>\n",
              "      <td>0.6656</td>\n",
              "      <td>0.7119</td>\n",
              "      <td>0.2654</td>\n",
              "      <td>0.4601</td>\n",
              "      <td>0.11890</td>\n",
              "      <td>NaN</td>\n",
              "    </tr>\n",
              "    <tr>\n",
              "      <th>1</th>\n",
              "      <td>842517</td>\n",
              "      <td>M</td>\n",
              "      <td>20.57</td>\n",
              "      <td>17.77</td>\n",
              "      <td>132.90</td>\n",
              "      <td>1326.0</td>\n",
              "      <td>0.08474</td>\n",
              "      <td>0.07864</td>\n",
              "      <td>0.0869</td>\n",
              "      <td>0.07017</td>\n",
              "      <td>0.1812</td>\n",
              "      <td>0.05667</td>\n",
              "      <td>0.5435</td>\n",
              "      <td>0.7339</td>\n",
              "      <td>3.398</td>\n",
              "      <td>74.08</td>\n",
              "      <td>0.005225</td>\n",
              "      <td>0.01308</td>\n",
              "      <td>0.01860</td>\n",
              "      <td>0.01340</td>\n",
              "      <td>0.01389</td>\n",
              "      <td>0.003532</td>\n",
              "      <td>24.99</td>\n",
              "      <td>23.41</td>\n",
              "      <td>158.80</td>\n",
              "      <td>1956.0</td>\n",
              "      <td>0.1238</td>\n",
              "      <td>0.1866</td>\n",
              "      <td>0.2416</td>\n",
              "      <td>0.1860</td>\n",
              "      <td>0.2750</td>\n",
              "      <td>0.08902</td>\n",
              "      <td>NaN</td>\n",
              "    </tr>\n",
              "    <tr>\n",
              "      <th>2</th>\n",
              "      <td>84300903</td>\n",
              "      <td>M</td>\n",
              "      <td>19.69</td>\n",
              "      <td>21.25</td>\n",
              "      <td>130.00</td>\n",
              "      <td>1203.0</td>\n",
              "      <td>0.10960</td>\n",
              "      <td>0.15990</td>\n",
              "      <td>0.1974</td>\n",
              "      <td>0.12790</td>\n",
              "      <td>0.2069</td>\n",
              "      <td>0.05999</td>\n",
              "      <td>0.7456</td>\n",
              "      <td>0.7869</td>\n",
              "      <td>4.585</td>\n",
              "      <td>94.03</td>\n",
              "      <td>0.006150</td>\n",
              "      <td>0.04006</td>\n",
              "      <td>0.03832</td>\n",
              "      <td>0.02058</td>\n",
              "      <td>0.02250</td>\n",
              "      <td>0.004571</td>\n",
              "      <td>23.57</td>\n",
              "      <td>25.53</td>\n",
              "      <td>152.50</td>\n",
              "      <td>1709.0</td>\n",
              "      <td>0.1444</td>\n",
              "      <td>0.4245</td>\n",
              "      <td>0.4504</td>\n",
              "      <td>0.2430</td>\n",
              "      <td>0.3613</td>\n",
              "      <td>0.08758</td>\n",
              "      <td>NaN</td>\n",
              "    </tr>\n",
              "    <tr>\n",
              "      <th>3</th>\n",
              "      <td>84348301</td>\n",
              "      <td>M</td>\n",
              "      <td>11.42</td>\n",
              "      <td>20.38</td>\n",
              "      <td>77.58</td>\n",
              "      <td>386.1</td>\n",
              "      <td>0.14250</td>\n",
              "      <td>0.28390</td>\n",
              "      <td>0.2414</td>\n",
              "      <td>0.10520</td>\n",
              "      <td>0.2597</td>\n",
              "      <td>0.09744</td>\n",
              "      <td>0.4956</td>\n",
              "      <td>1.1560</td>\n",
              "      <td>3.445</td>\n",
              "      <td>27.23</td>\n",
              "      <td>0.009110</td>\n",
              "      <td>0.07458</td>\n",
              "      <td>0.05661</td>\n",
              "      <td>0.01867</td>\n",
              "      <td>0.05963</td>\n",
              "      <td>0.009208</td>\n",
              "      <td>14.91</td>\n",
              "      <td>26.50</td>\n",
              "      <td>98.87</td>\n",
              "      <td>567.7</td>\n",
              "      <td>0.2098</td>\n",
              "      <td>0.8663</td>\n",
              "      <td>0.6869</td>\n",
              "      <td>0.2575</td>\n",
              "      <td>0.6638</td>\n",
              "      <td>0.17300</td>\n",
              "      <td>NaN</td>\n",
              "    </tr>\n",
              "    <tr>\n",
              "      <th>4</th>\n",
              "      <td>84358402</td>\n",
              "      <td>M</td>\n",
              "      <td>20.29</td>\n",
              "      <td>14.34</td>\n",
              "      <td>135.10</td>\n",
              "      <td>1297.0</td>\n",
              "      <td>0.10030</td>\n",
              "      <td>0.13280</td>\n",
              "      <td>0.1980</td>\n",
              "      <td>0.10430</td>\n",
              "      <td>0.1809</td>\n",
              "      <td>0.05883</td>\n",
              "      <td>0.7572</td>\n",
              "      <td>0.7813</td>\n",
              "      <td>5.438</td>\n",
              "      <td>94.44</td>\n",
              "      <td>0.011490</td>\n",
              "      <td>0.02461</td>\n",
              "      <td>0.05688</td>\n",
              "      <td>0.01885</td>\n",
              "      <td>0.01756</td>\n",
              "      <td>0.005115</td>\n",
              "      <td>22.54</td>\n",
              "      <td>16.67</td>\n",
              "      <td>152.20</td>\n",
              "      <td>1575.0</td>\n",
              "      <td>0.1374</td>\n",
              "      <td>0.2050</td>\n",
              "      <td>0.4000</td>\n",
              "      <td>0.1625</td>\n",
              "      <td>0.2364</td>\n",
              "      <td>0.07678</td>\n",
              "      <td>NaN</td>\n",
              "    </tr>\n",
              "  </tbody>\n",
              "</table>\n",
              "</div>"
            ],
            "text/plain": [
              "         id diagnosis  ...  fractal_dimension_worst  Unnamed: 32\n",
              "0    842302         M  ...                  0.11890          NaN\n",
              "1    842517         M  ...                  0.08902          NaN\n",
              "2  84300903         M  ...                  0.08758          NaN\n",
              "3  84348301         M  ...                  0.17300          NaN\n",
              "4  84358402         M  ...                  0.07678          NaN\n",
              "\n",
              "[5 rows x 33 columns]"
            ]
          },
          "metadata": {
            "tags": []
          },
          "execution_count": 2
        }
      ]
    },
    {
      "cell_type": "code",
      "metadata": {
        "id": "eoJSa02TAW0k"
      },
      "source": [
        "\n",
        "from sklearn.model_selection import train_test_split\n",
        "from sklearn.ensemble import RandomForestClassifier\n",
        "from sklearn.metrics import accuracy_score\n",
        "from sklearn.metrics import confusion_matrix\n",
        "from sklearn.svm import SVC\n",
        "from sklearn.preprocessing import StandardScaler\n",
        "from sklearn import metrics\n",
        "from sklearn.decomposition import PCA\n",
        "\n",
        "\n",
        "predictors = ['radius_mean', 'texture_mean', 'perimeter_mean',\n",
        "       'area_mean', 'smoothness_mean', 'compactness_mean', 'concavity_mean',\n",
        "       'concave points_mean', 'symmetry_mean', 'fractal_dimension_mean',\n",
        "       'radius_se', 'texture_se', 'perimeter_se', 'area_se', 'smoothness_se',\n",
        "       'compactness_se', 'concavity_se', 'concave points_se', 'symmetry_se',\n",
        "       'fractal_dimension_se', 'radius_worst', 'texture_worst',\n",
        "       'perimeter_worst', 'area_worst', 'smoothness_worst',\n",
        "       'compactness_worst', 'concavity_worst', 'concave points_worst',\n",
        "       'symmetry_worst', 'fractal_dimension_worst']\n",
        "\n",
        "#predictors = data.columns.drop('diagnosis') #gets all of the columns except the diagnosis\n",
        "target = \"diagnosis\"\n",
        "train_data, test_data, train_sln, test_sln = train_test_split(data[predictors], data[target], test_size = 0.2, random_state=41)\n",
        "#Normalize Data\n",
        "from sklearn.preprocessing import StandardScaler\n",
        "scaler = StandardScaler()\n",
        "scaler.fit(train_data)\n",
        "train_data = scaler.transform(train_data)\n",
        "test_data = scaler.transform(test_data)"
      ],
      "execution_count": 16,
      "outputs": []
    },
    {
      "cell_type": "markdown",
      "metadata": {
        "id": "w0x6tsdvAw_9"
      },
      "source": [
        "## Exercises:\n",
        "1. Support Vector Classifier: \\\\\n",
        "  a. Default \\\\\n",
        "  b. Tuned"
      ]
    },
    {
      "cell_type": "code",
      "metadata": {
        "id": "woj8I3NsAgCT",
        "colab": {
          "base_uri": "https://localhost:8080/"
        },
        "outputId": "5277d1b5-5c7e-4c0a-b63b-7a3bb66b3bf6"
      },
      "source": [
        "#Default SVC\n",
        "svc = SVC()\n",
        "svc.fit(train_data,train_sln)\n",
        "svc_predictions = svc.predict(test_data)\n",
        "print(\"Default SVC: \", accuracy_score(test_sln,svc_predictions))\n",
        "\n",
        "vals = data[target].unique()\n",
        "conf_mat = metrics.confusion_matrix(test_sln, svc_predictions, labels=vals)\n",
        "print(pd.DataFrame(conf_mat, index = \"T\" + vals, columns = \"Pred\" +vals))\n"
      ],
      "execution_count": 8,
      "outputs": [
        {
          "output_type": "stream",
          "text": [
            "Default SVC:  0.9824561403508771\n",
            "    PredM  PredB\n",
            "TM     39      1\n",
            "TB      1     73\n"
          ],
          "name": "stdout"
        }
      ]
    },
    {
      "cell_type": "code",
      "metadata": {
        "id": "2lCCdv-1At4G",
        "colab": {
          "base_uri": "https://localhost:8080/"
        },
        "outputId": "85eeddc8-316c-4f8a-93c0-3640121b6a95"
      },
      "source": [
        "#Tuned SVC:\n",
        "svc_tuned = SVC(C=2, max_iter=-1, random_state=1)\n",
        "svc_tuned.fit(train_data,train_sln)\n",
        "svc_tuned_predictions = svc_tuned.predict(test_data)\n",
        "print(\"Tuned SVC: \", accuracy_score(test_sln,svc_tuned_predictions))\n",
        "\n",
        "conf_mat = metrics.confusion_matrix(test_sln, svc_tuned_predictions, labels=vals)\n",
        "print(pd.DataFrame(conf_mat, index = \"T\" + vals, columns = \"Pred\" +vals))"
      ],
      "execution_count": 9,
      "outputs": [
        {
          "output_type": "stream",
          "text": [
            "Tuned SVC:  0.9912280701754386\n",
            "    PredM  PredB\n",
            "TM     40      0\n",
            "TB      1     73\n"
          ],
          "name": "stdout"
        }
      ]
    },
    {
      "cell_type": "markdown",
      "metadata": {
        "id": "xThi9aH6BGCV"
      },
      "source": [
        "2. Perceptron: \\\\\n",
        "  a. Default \\\\\n",
        "  b. Tuned"
      ]
    },
    {
      "cell_type": "code",
      "metadata": {
        "id": "xyyjn8U3BA0n",
        "colab": {
          "base_uri": "https://localhost:8080/"
        },
        "outputId": "cc26a13a-6fdb-4944-a5d7-20c800a2c2b2"
      },
      "source": [
        "#Default Perceptron\n",
        "from sklearn.linear_model import Perceptron\n",
        "\n",
        "perc = Perceptron()\n",
        "perc.fit(train_data,train_sln)\n",
        "perc_predictions = perc.predict(test_data)\n",
        "print(\"Default Perceptron: \", accuracy_score(test_sln,perc_predictions))\n",
        "\n",
        "conf_mat = metrics.confusion_matrix(test_sln, perc_predictions, labels=vals)\n",
        "print(pd.DataFrame(conf_mat, index = \"T\" + vals, columns = \"Pred\" +vals))"
      ],
      "execution_count": 10,
      "outputs": [
        {
          "output_type": "stream",
          "text": [
            "Default Perceptron:  0.956140350877193\n",
            "    PredM  PredB\n",
            "TM     38      2\n",
            "TB      3     71\n"
          ],
          "name": "stdout"
        }
      ]
    },
    {
      "cell_type": "code",
      "metadata": {
        "id": "rwLHd7XKBDbe",
        "colab": {
          "base_uri": "https://localhost:8080/"
        },
        "outputId": "eca7f45f-d2dd-4fa9-da62-72a2182bb278"
      },
      "source": [
        "#Tuned Perceptron\n",
        "\n",
        "perc_tuned = Perceptron(alpha=.1, max_iter=10)\n",
        "perc_tuned.fit(train_data,train_sln)\n",
        "perc_tuned_predictions = perc_tuned.predict(test_data)\n",
        "print(\"Tuned Perceptron: \", accuracy_score(test_sln,perc_tuned_predictions))\n",
        "\n",
        "conf_mat = metrics.confusion_matrix(test_sln, perc_tuned_predictions, labels=vals)\n",
        "print(pd.DataFrame(conf_mat, index = \"T\" + vals, columns = \"Pred\" +vals))"
      ],
      "execution_count": 11,
      "outputs": [
        {
          "output_type": "stream",
          "text": [
            "Tuned Perceptron:  0.9736842105263158\n",
            "    PredM  PredB\n",
            "TM     38      2\n",
            "TB      1     73\n"
          ],
          "name": "stdout"
        },
        {
          "output_type": "stream",
          "text": [
            "/usr/local/lib/python3.7/dist-packages/sklearn/linear_model/_stochastic_gradient.py:557: ConvergenceWarning: Maximum number of iteration reached before convergence. Consider increasing max_iter to improve the fit.\n",
            "  ConvergenceWarning)\n"
          ],
          "name": "stderr"
        }
      ]
    },
    {
      "cell_type": "markdown",
      "metadata": {
        "id": "QdKTD-JBBlsE"
      },
      "source": [
        "3. Stochastic Gradient Descent: \\\\\n",
        "  a. Default \\\\\n",
        "  b. Tuned"
      ]
    },
    {
      "cell_type": "code",
      "metadata": {
        "id": "JcphcrAGBWFQ",
        "colab": {
          "base_uri": "https://localhost:8080/"
        },
        "outputId": "cf6c1c3f-10b4-4881-8cb3-f76d15e5e406"
      },
      "source": [
        "#Default SGD\n",
        "from sklearn.linear_model import SGDClassifier\n",
        "\n",
        "sgd = SGDClassifier()\n",
        "sgd.fit(train_data,train_sln)\n",
        "sgd_predictions = sgd.predict(test_data)\n",
        "print(\"Default SGD Classifier: \", accuracy_score(test_sln,sgd_predictions))\n",
        "\n",
        "conf_mat = metrics.confusion_matrix(test_sln, sgd_predictions, labels=vals)\n",
        "print(pd.DataFrame(conf_mat, index = \"T\" + vals, columns = \"Pred\" +vals))"
      ],
      "execution_count": 21,
      "outputs": [
        {
          "output_type": "stream",
          "text": [
            "Default SGD Classifier:  0.9912280701754386\n",
            "    PredM  PredB\n",
            "TM     40      0\n",
            "TB      1     73\n"
          ],
          "name": "stdout"
        }
      ]
    },
    {
      "cell_type": "code",
      "metadata": {
        "id": "b0QkV9YaBYBK",
        "colab": {
          "base_uri": "https://localhost:8080/"
        },
        "outputId": "8ef286b8-1d1a-46e3-82c0-37870e50e5ff"
      },
      "source": [
        "#Tuned SGD\n",
        "\n",
        "sgd_tuned = SGDClassifier(alpha=.000001, max_iter=1000)\n",
        "sgd_tuned.fit(train_data,train_sln)\n",
        "sgd_tuned_predictions = sgd_tuned.predict(test_data)\n",
        "print(\"Tuned SGD Classifier: \", accuracy_score(test_sln,sgd_tuned_predictions))\n",
        "\n",
        "conf_mat = metrics.confusion_matrix(test_sln, sgd_tuned_predictions, labels=vals)\n",
        "print(pd.DataFrame(conf_mat, index = \"T\" + vals, columns = \"Pred\" +vals))"
      ],
      "execution_count": 22,
      "outputs": [
        {
          "output_type": "stream",
          "text": [
            "Tuned SGD Classifier:  0.9912280701754386\n",
            "    PredM  PredB\n",
            "TM     40      0\n",
            "TB      1     73\n"
          ],
          "name": "stdout"
        }
      ]
    },
    {
      "cell_type": "markdown",
      "metadata": {
        "id": "tJtVW0ZLBamx"
      },
      "source": [
        "3. Now take the model that performed the best above and run a **principal component analysis** on it. "
      ]
    },
    {
      "cell_type": "code",
      "metadata": {
        "id": "gZ30YXm8Bnnq",
        "colab": {
          "base_uri": "https://localhost:8080/"
        },
        "outputId": "b5189861-9ee5-42e0-d6c6-5460ef08cf8e"
      },
      "source": [
        "#PCA on best model\n",
        "from sklearn.feature_selection import SelectKBest\n",
        "from sklearn.decomposition import PCA\n",
        "\n",
        "selector = SelectKBest(k=2)\n",
        "selector.fit(train_data,train_sln)\n",
        "print(\"Scores for each feature\")\n",
        "print(selector.scores_)\n",
        "\n",
        "print(\"This is what the training data looks like after transformation.\")\n",
        "train_transformed = selector.transform(train_data)\n",
        "\n",
        "test_transformed = selector.transform(test_data)\n",
        "svc_tuned2 = SVC()\n",
        "svc_tuned2.fit(train_transformed,train_sln)\n",
        "svc_tuned2_predictions = svc_tuned2.predict(test_transformed)\n",
        "print(\"SVC: \", accuracy_score(test_sln,svc_tuned2_predictions))\n",
        "\n",
        "extractor = PCA(n_components=2, whiten=True)\n",
        "extractor.fit(train_data)\n",
        "print(\"variance/importance of each component\")\n",
        "print(extractor.explained_variance_ratio_)"
      ],
      "execution_count": 24,
      "outputs": [
        {
          "output_type": "stream",
          "text": [
            "Scores for each feature\n",
            "[4.86076047e+02 8.05159650e+01 5.25872739e+02 4.51511787e+02\n",
            " 8.77863019e+01 2.50000183e+02 4.31027328e+02 6.80719655e+02\n",
            " 6.74204085e+01 3.72034958e-03 2.58731679e+02 2.84635675e-01\n",
            " 2.42251517e+02 3.10650829e+02 2.10049065e+00 3.40257010e+01\n",
            " 3.45760847e+01 9.09895927e+01 2.76246747e-01 2.60066487e+00\n",
            " 6.54890146e+02 1.07003275e+02 6.86666761e+02 5.21809597e+02\n",
            " 1.19570338e+02 2.44872777e+02 3.49224673e+02 7.65597537e+02\n",
            " 1.17519232e+02 6.09183202e+01]\n",
            "This is what the training data looks like after transformation.\n",
            "SVC:  0.9649122807017544\n",
            "variance/importance of each component\n",
            "[0.45115158 0.18751237]\n"
          ],
          "name": "stdout"
        }
      ]
    },
    {
      "cell_type": "code",
      "metadata": {
        "colab": {
          "base_uri": "https://localhost:8080/"
        },
        "id": "YCjpXZSFeLR-",
        "outputId": "e18ce682-f6a0-4054-c641-6c0081126e6b"
      },
      "source": [
        "print(\"Before transformation\")\n",
        "print(train_data[0:4])\n",
        "\n",
        "train_transformed = extractor.transform(train_data)\n",
        "print(\"After transformation\")\n",
        "print(train_transformed[0:4])"
      ],
      "execution_count": 25,
      "outputs": [
        {
          "output_type": "stream",
          "text": [
            "Before transformation\n",
            "[[-0.36498729 -0.83463794 -0.37044213 -0.42265468 -0.41437387 -0.40892601\n",
            "  -0.38027127 -0.45643791 -0.37976688 -0.53426485 -1.00722501 -1.35166219\n",
            "  -0.91826389 -0.7581854  -0.70035103 -0.40772137  0.05810419 -0.5528159\n",
            "  -0.53017844 -0.58567284 -0.45365506 -1.06177658 -0.41985334 -0.48882443\n",
            "  -0.00381561  0.0295832   0.34707213 -0.25967334  0.17192889 -0.3532633 ]\n",
            " [ 0.05208811 -0.26700868 -0.01772895 -0.04633291 -2.19428762 -0.99434456\n",
            "  -0.81174734 -0.90244966 -0.63965204 -1.01238652 -0.67665163 -1.00795366\n",
            "  -0.64856865 -0.50675818 -1.27321035 -0.64147195 -0.76808847 -1.08006164\n",
            "  -1.19358917 -0.71798042 -0.00465333 -0.09398457 -0.03673001 -0.10175369\n",
            "  -1.67045714 -0.25113922 -0.56957017 -0.60430302 -0.44112743 -0.4234167 ]\n",
            " [-0.12582517 -1.43250975 -0.15915297 -0.23777394  0.0233809  -0.32406048\n",
            "  -0.63029624 -0.59123606 -1.66062944  0.09591998 -0.7583664  -1.45373321\n",
            "  -0.80482984 -0.59582881 -0.94912797 -0.46406697 -0.55665105 -0.84054288\n",
            "  -0.83657296 -0.40793434 -0.19015639 -1.55304156 -0.22220068 -0.30714186\n",
            "  -0.06934542 -0.05659795 -0.4765149  -0.52384354 -0.86529613  0.15674078]\n",
            " [-0.95122614  1.1381064  -0.9632374  -0.85593164 -1.02694159 -0.72899578\n",
            "  -0.93078851 -1.0485028   0.62635995  0.07252564  0.51853005  1.3572913\n",
            "   0.45278336 -0.15611304  0.43931627 -0.36643845 -0.69502633 -0.96605342\n",
            "   0.62213135 -0.31149327 -0.67710193  0.91965884 -0.70369351 -0.67014508\n",
            "  -0.53679141 -0.58952697 -1.02314262 -1.25685084  0.25974506 -0.45125535]]\n",
            "After transformation\n",
            "[[-0.56177961 -0.09529979]\n",
            " [-0.78359091 -1.08264335]\n",
            " [-0.66429726 -0.31940148]\n",
            " [-0.6849423   0.13340933]]\n"
          ],
          "name": "stdout"
        }
      ]
    },
    {
      "cell_type": "code",
      "metadata": {
        "colab": {
          "base_uri": "https://localhost:8080/"
        },
        "id": "9z45Kolw2A84",
        "outputId": "03605543-e489-4dff-d0a2-1ae0503ca191"
      },
      "source": [
        "test_transformed = extractor.transform(test_data)\n",
        "svc_tuned3 = SVC(C=2, max_iter=-1, random_state=1)\n",
        "svc_tuned3.fit(train_transformed,train_sln)\n",
        "svc_tuned3_predictions = svc_tuned3.predict(test_transformed)\n",
        "print(\"SVC Tuned with Principle Component Analysis: \", accuracy_score(test_sln,svc_tuned2_predictions))\n",
        "\n",
        "#conf_mat = metrics.confusion_matrix(test_sln, svc_tuned_predictions, labels=vals)\n",
        "#print(pd.DataFrame(conf_mat, index = \"T\" + vals, columns = \"Pred\" +vals))"
      ],
      "execution_count": 27,
      "outputs": [
        {
          "output_type": "stream",
          "text": [
            "SVC Tuned with Principle Component Analysis:  0.9649122807017544\n"
          ],
          "name": "stdout"
        }
      ]
    },
    {
      "cell_type": "markdown",
      "metadata": {
        "id": "MFhQ8FVpBrPW"
      },
      "source": [
        "## Conclusions:\n",
        "a. Which model performed the best? Why do you think this model performed the best? \\\\\n",
        "b. What effect did the principal component analysis have on the accuracy of your best model? Why do you think this is the case?"
      ]
    },
    {
      "cell_type": "markdown",
      "metadata": {
        "id": "V_WB-yKR9CVh"
      },
      "source": [
        "a. Before I tuned the models, the SGD model performed the best with an accuracy of .99122 and next was SVC followed by Perception. The SGD model probably performed the best because the model linearly separated the data the best and the learning rate was very small.\n",
        "\n",
        ".9824=SVC\n",
        "\n",
        "\n",
        ".956=Perception\n",
        "\n",
        "\n",
        ".99122=SGD\n",
        "\n",
        "b. The principal component analysis helps get the best results by identifying to me which new composite features may more directly identify the signal and minimize noise in the data. This is the case becuase the highest variance is the first principal component, minimize information loss, and each new attribute is linearly uncorrelated to the others. "
      ]
    }
  ]
}